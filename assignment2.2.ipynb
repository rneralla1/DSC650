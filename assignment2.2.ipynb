{
 "cells": [
  {
   "cell_type": "code",
   "execution_count": 1,
   "id": "classified-start",
   "metadata": {},
   "outputs": [],
   "source": [
    "from pathlib import Path\n",
    "import json\n",
    "import os\n",
    "from tinydb import TinyDB"
   ]
  },
  {
   "cell_type": "code",
   "execution_count": 2,
   "id": "elect-triangle",
   "metadata": {},
   "outputs": [],
   "source": [
    "current_dir = Path(os.getcwd()).absolute()\n",
    "results_dir = current_dir.joinpath('results')\n",
    "kv_data_dir = results_dir.joinpath('kvdb')\n",
    "kv_data_dir.mkdir(parents=True, exist_ok=True)"
   ]
  },
  {
   "cell_type": "code",
   "execution_count": 3,
   "id": "filled-express",
   "metadata": {},
   "outputs": [],
   "source": [
    "def _load_json(json_path):\n",
    "    with open(json_path) as f:\n",
    "        return json.load(f)"
   ]
  },
  {
   "cell_type": "code",
   "execution_count": 4,
   "id": "sporting-ebony",
   "metadata": {},
   "outputs": [],
   "source": [
    "class DocumentDB(object):\n",
    "    def __init__(self, db_path):\n",
    "        ## You can use the code from the previous exmaple if you would like\n",
    "        people_json = kv_data_dir.joinpath('people.json')\n",
    "        visited_json = kv_data_dir.joinpath('visited.json')\n",
    "        sites_json = kv_data_dir.joinpath('sites.json')\n",
    "        measurements_json = kv_data_dir.joinpath('measurements.json')\n",
    "\n",
    "        self._db_path = Path(db_path)\n",
    "        self._db = None\n",
    "        ## TODO: Implement code\n",
    "        self._person_lookup = _load_json(people_json)\n",
    "        self._visit_lookup = _load_json(visited_json)\n",
    "        self._site_lookup = _load_json(sites_json)\n",
    "        self._measurements_lookup = _load_json(measurements_json)\n",
    "        self._load_db()\n",
    "    \n",
    "    \n",
    "    def _get_site(self,site_id):\n",
    "        return self._site_lookup[str(site_id)]\n",
    "    \n",
    "    \n",
    "    def _get_visit(self, visit_id) :\n",
    "        visit = self._visit_lookup.get(str(visit_id))\n",
    "        site_id = str(visit['site_id'])\n",
    "        site = self._site_lookup[site_id]\n",
    "        visit['site'] = site\n",
    "        return visit\n",
    "    \n",
    "    def _get_measurements(self, person_id):\n",
    "        measurements = []\n",
    "        for values in  self._measurements_lookup.values():\n",
    "            measurements.extend([value for value in values if str(value['person_id'])== str(person_id)])\n",
    "        return measurements\n",
    "    \n",
    "    def _load_db(self):\n",
    "        self._db = TinyDB(self._db_path)\n",
    "        ## TODO: Implement code\n",
    "        persons = self._person_lookup.items()\n",
    "        print(persons)\n",
    "        for perosn_id, record in persons:\n",
    "            measurements = self._get_measurements(perosn_id)\n",
    "            print(measurements)\n",
    "            '''\n",
    "            visit_ids = set([measurement['visit_id'] for measurement in measurements])\n",
    "            visits = []\n",
    "            for visit_id in visit_ids:\n",
    "                visit = self._get_visit(visit_id)\n",
    "                visit['measurrements'] = [\n",
    "                measuremnt for measurement in measurments\n",
    "                if visit_id == measurement['visit_id']\n",
    "                ]\n",
    "                visits.append(visit)\n",
    "\n",
    "        record['visits'] = visits'''\n",
    "        self._db.insert(persons)\n",
    "        #self._db.insert(record)"
   ]
  },
  {
   "cell_type": "code",
   "execution_count": 5,
   "id": "pending-portuguese",
   "metadata": {},
   "outputs": [],
   "source": [
    "db_path = results_dir.joinpath('patient-info.json')\n",
    "if db_path.exists():\n",
    "    os.remove(db_path)"
   ]
  },
  {
   "cell_type": "code",
   "execution_count": 6,
   "id": "several-wallpaper",
   "metadata": {},
   "outputs": [
    {
     "name": "stdout",
     "output_type": "stream",
     "text": [
      "dict_items([('danforth', {'person_id': 'danforth', 'personal_name': 'Frank', 'family_name': 'Danforth'}), ('dyer', {'person_id': 'dyer', 'personal_name': 'William', 'family_name': 'Dyer'}), ('lake', {'person_id': 'lake', 'personal_name': 'Anderson', 'family_name': 'Lake'}), ('pb', {'person_id': 'pb', 'personal_name': 'Frank', 'family_name': 'Pabodie'}), ('roe', {'person_id': 'roe', 'personal_name': 'Valentina', 'family_name': 'Roerich'})])\n",
      "[]\n",
      "[{'visit_id': 619, 'person_id': 'dyer', 'quantity': 'rad', 'reading': 9.82}, {'visit_id': 619, 'person_id': 'dyer', 'quantity': 'sal', 'reading': 0.13}, {'visit_id': 622, 'person_id': 'dyer', 'quantity': 'rad', 'reading': 7.8}, {'visit_id': 622, 'person_id': 'dyer', 'quantity': 'sal', 'reading': 0.09}]\n",
      "[{'visit_id': 734, 'person_id': 'lake', 'quantity': 'sal', 'reading': 0.05}, {'visit_id': 752, 'person_id': 'lake', 'quantity': 'rad', 'reading': 2.19}, {'visit_id': 752, 'person_id': 'lake', 'quantity': 'sal', 'reading': 0.09}, {'visit_id': 752, 'person_id': 'lake', 'quantity': 'temp', 'reading': -16.0}, {'visit_id': 837, 'person_id': 'lake', 'quantity': 'rad', 'reading': 1.46}, {'visit_id': 837, 'person_id': 'lake', 'quantity': 'sal', 'reading': 0.21}]\n",
      "[{'visit_id': 734, 'person_id': 'pb', 'quantity': 'rad', 'reading': 8.41}, {'visit_id': 734, 'person_id': 'pb', 'quantity': 'temp', 'reading': -21.5}, {'visit_id': 735, 'person_id': 'pb', 'quantity': 'rad', 'reading': 7.22}, {'visit_id': 735, 'person_id': 'pb', 'quantity': 'sal', 'reading': 0.06}, {'visit_id': 735, 'person_id': 'pb', 'quantity': 'temp', 'reading': -26.0}, {'visit_id': 751, 'person_id': 'pb', 'quantity': 'rad', 'reading': 4.35}, {'visit_id': 751, 'person_id': 'pb', 'quantity': 'temp', 'reading': -18.5}]\n",
      "[{'visit_id': 752, 'person_id': 'roe', 'quantity': 'sal', 'reading': 41.6}, {'visit_id': 837, 'person_id': 'roe', 'quantity': 'sal', 'reading': 22.5}, {'visit_id': 844, 'person_id': 'roe', 'quantity': 'rad', 'reading': 11.25}]\n"
     ]
    },
    {
     "ename": "ValueError",
     "evalue": "Document is not a Mapping",
     "output_type": "error",
     "traceback": [
      "\u001b[0;31m---------------------------------------------------------------------------\u001b[0m",
      "\u001b[0;31mValueError\u001b[0m                                Traceback (most recent call last)",
      "\u001b[0;32m<ipython-input-6-325d83fff991>\u001b[0m in \u001b[0;36m<module>\u001b[0;34m\u001b[0m\n\u001b[0;32m----> 1\u001b[0;31m \u001b[0mdb\u001b[0m \u001b[0;34m=\u001b[0m \u001b[0mDocumentDB\u001b[0m\u001b[0;34m(\u001b[0m\u001b[0mdb_path\u001b[0m\u001b[0;34m)\u001b[0m\u001b[0;34m\u001b[0m\u001b[0;34m\u001b[0m\u001b[0m\n\u001b[0m",
      "\u001b[0;32m<ipython-input-4-a9d85bbafc76>\u001b[0m in \u001b[0;36m__init__\u001b[0;34m(self, db_path)\u001b[0m\n\u001b[1;32m     14\u001b[0m         \u001b[0mself\u001b[0m\u001b[0;34m.\u001b[0m\u001b[0m_site_lookup\u001b[0m \u001b[0;34m=\u001b[0m \u001b[0m_load_json\u001b[0m\u001b[0;34m(\u001b[0m\u001b[0msites_json\u001b[0m\u001b[0;34m)\u001b[0m\u001b[0;34m\u001b[0m\u001b[0;34m\u001b[0m\u001b[0m\n\u001b[1;32m     15\u001b[0m         \u001b[0mself\u001b[0m\u001b[0;34m.\u001b[0m\u001b[0m_measurements_lookup\u001b[0m \u001b[0;34m=\u001b[0m \u001b[0m_load_json\u001b[0m\u001b[0;34m(\u001b[0m\u001b[0mmeasurements_json\u001b[0m\u001b[0;34m)\u001b[0m\u001b[0;34m\u001b[0m\u001b[0;34m\u001b[0m\u001b[0m\n\u001b[0;32m---> 16\u001b[0;31m         \u001b[0mself\u001b[0m\u001b[0;34m.\u001b[0m\u001b[0m_load_db\u001b[0m\u001b[0;34m(\u001b[0m\u001b[0;34m)\u001b[0m\u001b[0;34m\u001b[0m\u001b[0;34m\u001b[0m\u001b[0m\n\u001b[0m\u001b[1;32m     17\u001b[0m \u001b[0;34m\u001b[0m\u001b[0m\n\u001b[1;32m     18\u001b[0m \u001b[0;34m\u001b[0m\u001b[0m\n",
      "\u001b[0;32m<ipython-input-4-a9d85bbafc76>\u001b[0m in \u001b[0;36m_load_db\u001b[0;34m(self)\u001b[0m\n\u001b[1;32m     54\u001b[0m \u001b[0;34m\u001b[0m\u001b[0m\n\u001b[1;32m     55\u001b[0m         record['visits'] = visits'''\n\u001b[0;32m---> 56\u001b[0;31m         \u001b[0mself\u001b[0m\u001b[0;34m.\u001b[0m\u001b[0m_db\u001b[0m\u001b[0;34m.\u001b[0m\u001b[0minsert\u001b[0m\u001b[0;34m(\u001b[0m\u001b[0mpersons\u001b[0m\u001b[0;34m)\u001b[0m\u001b[0;34m\u001b[0m\u001b[0;34m\u001b[0m\u001b[0m\n\u001b[0m\u001b[1;32m     57\u001b[0m         \u001b[0;31m#self._db.insert(record)\u001b[0m\u001b[0;34m\u001b[0m\u001b[0;34m\u001b[0m\u001b[0;34m\u001b[0m\u001b[0m\n",
      "\u001b[0;32m/opt/conda/lib/python3.8/site-packages/tinydb/table.py\u001b[0m in \u001b[0;36minsert\u001b[0;34m(self, document)\u001b[0m\n\u001b[1;32m    145\u001b[0m         \u001b[0;31m# Make sure the document implements the ``Mapping`` interface\u001b[0m\u001b[0;34m\u001b[0m\u001b[0;34m\u001b[0m\u001b[0;34m\u001b[0m\u001b[0m\n\u001b[1;32m    146\u001b[0m         \u001b[0;32mif\u001b[0m \u001b[0;32mnot\u001b[0m \u001b[0misinstance\u001b[0m\u001b[0;34m(\u001b[0m\u001b[0mdocument\u001b[0m\u001b[0;34m,\u001b[0m \u001b[0mMapping\u001b[0m\u001b[0;34m)\u001b[0m\u001b[0;34m:\u001b[0m\u001b[0;34m\u001b[0m\u001b[0;34m\u001b[0m\u001b[0m\n\u001b[0;32m--> 147\u001b[0;31m             \u001b[0;32mraise\u001b[0m \u001b[0mValueError\u001b[0m\u001b[0;34m(\u001b[0m\u001b[0;34m'Document is not a Mapping'\u001b[0m\u001b[0;34m)\u001b[0m\u001b[0;34m\u001b[0m\u001b[0;34m\u001b[0m\u001b[0m\n\u001b[0m\u001b[1;32m    148\u001b[0m \u001b[0;34m\u001b[0m\u001b[0m\n\u001b[1;32m    149\u001b[0m         \u001b[0;31m# First, we get the document ID for the new document\u001b[0m\u001b[0;34m\u001b[0m\u001b[0;34m\u001b[0m\u001b[0;34m\u001b[0m\u001b[0m\n",
      "\u001b[0;31mValueError\u001b[0m: Document is not a Mapping"
     ]
    }
   ],
   "source": [
    "db = DocumentDB(db_path)"
   ]
  },
  {
   "cell_type": "code",
   "execution_count": null,
   "id": "impaired-juice",
   "metadata": {},
   "outputs": [],
   "source": []
  }
 ],
 "metadata": {
  "kernelspec": {
   "display_name": "Python 3",
   "language": "python",
   "name": "python3"
  },
  "language_info": {
   "codemirror_mode": {
    "name": "ipython",
    "version": 3
   },
   "file_extension": ".py",
   "mimetype": "text/x-python",
   "name": "python",
   "nbconvert_exporter": "python",
   "pygments_lexer": "ipython3",
   "version": "3.8.8"
  }
 },
 "nbformat": 4,
 "nbformat_minor": 5
}
