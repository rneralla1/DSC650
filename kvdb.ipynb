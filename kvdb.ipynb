{
 "cells": [
  {
   "cell_type": "code",
   "execution_count": 1,
   "id": "painted-modem",
   "metadata": {},
   "outputs": [],
   "source": [
    "import json\n",
    "from pathlib import Path\n",
    "import os\n",
    "\n",
    "import pandas as pd\n",
    "import s3fs"
   ]
  },
  {
   "cell_type": "code",
   "execution_count": 2,
   "id": "inappropriate-hartford",
   "metadata": {},
   "outputs": [],
   "source": [
    " def read_cluster_csv(file_path, endpoint_url='https://storage.budsc.midwest-datascience.com'):\n",
    "    s3 = s3fs.S3FileSystem(\n",
    "        anon=True,\n",
    "        client_kwargs={'endpoint_url': endpoint_url}\n",
    "       )\n",
    "    return pd.read_csv(s3.open(file_path, mode='rb'))"
   ]
  },
  {
   "cell_type": "code",
   "execution_count": 3,
   "id": "oriented-mailman",
   "metadata": {},
   "outputs": [
    {
     "data": {
      "text/html": [
       "<div>\n",
       "<style scoped>\n",
       "    .dataframe tbody tr th:only-of-type {\n",
       "        vertical-align: middle;\n",
       "    }\n",
       "\n",
       "    .dataframe tbody tr th {\n",
       "        vertical-align: top;\n",
       "    }\n",
       "\n",
       "    .dataframe thead th {\n",
       "        text-align: right;\n",
       "    }\n",
       "</style>\n",
       "<table border=\"1\" class=\"dataframe\">\n",
       "  <thead>\n",
       "    <tr style=\"text-align: right;\">\n",
       "      <th></th>\n",
       "      <th>site_id</th>\n",
       "      <th>latitude</th>\n",
       "      <th>longitude</th>\n",
       "    </tr>\n",
       "  </thead>\n",
       "  <tbody>\n",
       "    <tr>\n",
       "      <th>0</th>\n",
       "      <td>DR-1</td>\n",
       "      <td>-49.85</td>\n",
       "      <td>-128.57</td>\n",
       "    </tr>\n",
       "    <tr>\n",
       "      <th>1</th>\n",
       "      <td>DR-3</td>\n",
       "      <td>-47.15</td>\n",
       "      <td>-126.72</td>\n",
       "    </tr>\n",
       "    <tr>\n",
       "      <th>2</th>\n",
       "      <td>MSK-4</td>\n",
       "      <td>-48.87</td>\n",
       "      <td>-123.40</td>\n",
       "    </tr>\n",
       "  </tbody>\n",
       "</table>\n",
       "</div>"
      ],
      "text/plain": [
       "  site_id  latitude  longitude\n",
       "0    DR-1    -49.85    -128.57\n",
       "1    DR-3    -47.15    -126.72\n",
       "2   MSK-4    -48.87    -123.40"
      ]
     },
     "execution_count": 3,
     "metadata": {},
     "output_type": "execute_result"
    }
   ],
   "source": [
    " df = read_cluster_csv('data/external/tidynomicon/site.csv')\n",
    " df.head(10)"
   ]
  },
  {
   "cell_type": "code",
   "execution_count": 4,
   "id": "tender-radiation",
   "metadata": {},
   "outputs": [
    {
     "data": {
      "text/html": [
       "<div>\n",
       "<style scoped>\n",
       "    .dataframe tbody tr th:only-of-type {\n",
       "        vertical-align: middle;\n",
       "    }\n",
       "\n",
       "    .dataframe tbody tr th {\n",
       "        vertical-align: top;\n",
       "    }\n",
       "\n",
       "    .dataframe thead th {\n",
       "        text-align: right;\n",
       "    }\n",
       "</style>\n",
       "<table border=\"1\" class=\"dataframe\">\n",
       "  <thead>\n",
       "    <tr style=\"text-align: right;\">\n",
       "      <th></th>\n",
       "      <th>person_id</th>\n",
       "      <th>personal_name</th>\n",
       "      <th>family_name</th>\n",
       "    </tr>\n",
       "  </thead>\n",
       "  <tbody>\n",
       "    <tr>\n",
       "      <th>0</th>\n",
       "      <td>dyer</td>\n",
       "      <td>William</td>\n",
       "      <td>Dyer</td>\n",
       "    </tr>\n",
       "    <tr>\n",
       "      <th>1</th>\n",
       "      <td>pb</td>\n",
       "      <td>Frank</td>\n",
       "      <td>Pabodie</td>\n",
       "    </tr>\n",
       "    <tr>\n",
       "      <th>2</th>\n",
       "      <td>lake</td>\n",
       "      <td>Anderson</td>\n",
       "      <td>Lake</td>\n",
       "    </tr>\n",
       "    <tr>\n",
       "      <th>3</th>\n",
       "      <td>roe</td>\n",
       "      <td>Valentina</td>\n",
       "      <td>Roerich</td>\n",
       "    </tr>\n",
       "    <tr>\n",
       "      <th>4</th>\n",
       "      <td>danforth</td>\n",
       "      <td>Frank</td>\n",
       "      <td>Danforth</td>\n",
       "    </tr>\n",
       "  </tbody>\n",
       "</table>\n",
       "</div>"
      ],
      "text/plain": [
       "  person_id personal_name family_name\n",
       "0      dyer       William        Dyer\n",
       "1        pb         Frank     Pabodie\n",
       "2      lake      Anderson        Lake\n",
       "3       roe     Valentina     Roerich\n",
       "4  danforth         Frank    Danforth"
      ]
     },
     "execution_count": 4,
     "metadata": {},
     "output_type": "execute_result"
    }
   ],
   "source": [
    " df_person = read_cluster_csv('data/external/tidynomicon/person.csv')\n",
    " df_person.head(10)"
   ]
  },
  {
   "cell_type": "code",
   "execution_count": 5,
   "id": "sufficient-listing",
   "metadata": {},
   "outputs": [
    {
     "name": "stdout",
     "output_type": "stream",
     "text": [
      "/home/jovyan\n"
     ]
    }
   ],
   "source": [
    "current_dir = Path(os.getcwd()).absolute()\n",
    "print(current_dir)"
   ]
  },
  {
   "cell_type": "code",
   "execution_count": 6,
   "id": "mature-fifteen",
   "metadata": {},
   "outputs": [
    {
     "name": "stdout",
     "output_type": "stream",
     "text": [
      "/home/jovyan/results\n"
     ]
    }
   ],
   "source": [
    "results_dir = current_dir.joinpath('results')\n",
    "print(results_dir)"
   ]
  },
  {
   "cell_type": "code",
   "execution_count": 7,
   "id": "surprising-madrid",
   "metadata": {},
   "outputs": [],
   "source": [
    "current_dir = Path(os.getcwd()).absolute()\n",
    "results_dir = current_dir.joinpath('results')\n",
    "kv_data_dir = results_dir.joinpath('kvdb')\n",
    "kv_data_dir.mkdir(parents=True, exist_ok=True)\n",
    "\n",
    "people_json = kv_data_dir.joinpath('people.json')\n",
    "visited_json = kv_data_dir.joinpath('visited.json')\n",
    "sites_json = kv_data_dir.joinpath('sites.json')\n",
    "measurements_json = kv_data_dir.joinpath('measurements.json')"
   ]
  },
  {
   "cell_type": "code",
   "execution_count": 8,
   "id": "desperate-leone",
   "metadata": {},
   "outputs": [],
   "source": [
    "class KVDB(object):\n",
    "    def __init__(self, db_path):\n",
    "        self._db_path = Path(db_path)\n",
    "        self._db = {}\n",
    "        self._load_db()\n",
    "\n",
    "    def _load_db(self):\n",
    "        if self._db_path.exists():\n",
    "            with open(self._db_path) as f:\n",
    "                self._db = json.load(f)\n",
    "\n",
    "    def get_value(self, key):\n",
    "        return self._db.get(key)\n",
    "\n",
    "    def set_value(self, key, value):\n",
    "        self._db[key] = value\n",
    "\n",
    "    def save(self):\n",
    "        with open(self._db_path, 'w') as f:\n",
    "            json.dump(self._db, f, indent=2)"
   ]
  },
  {
   "cell_type": "code",
   "execution_count": 9,
   "id": "comparable-analyst",
   "metadata": {},
   "outputs": [],
   "source": [
    "def create_sites_kvdb():\n",
    "    db = KVDB(sites_json)\n",
    "    df = read_cluster_csv('data/external/tidynomicon/site.csv')\n",
    "    for site_id, group_df in df.groupby('site_id'):\n",
    "        db.set_value(site_id, group_df.to_dict(orient='records')[0])\n",
    "    db.save()\n",
    "\n",
    "\n"
   ]
  },
  {
   "cell_type": "code",
   "execution_count": 10,
   "id": "sonic-sleeping",
   "metadata": {},
   "outputs": [],
   "source": [
    "create_sites_kvdb()"
   ]
  },
  {
   "cell_type": "code",
   "execution_count": 11,
   "id": "expressed-annotation",
   "metadata": {},
   "outputs": [],
   "source": [
    "def create_people_kvdb():\n",
    "    db = KVDB(people_json)\n",
    "    ## TODO: Implement code\n",
    "    df = read_cluster_csv('data/external/tidynomicon/person.csv')\n",
    "    for person_id, group_df in df.groupby('person_id'):\n",
    "        db.set_value(person_id, group_df.to_dict(orient='records')[0])\n",
    "    db.save()\n"
   ]
  },
  {
   "cell_type": "code",
   "execution_count": 12,
   "id": "unsigned-showcase",
   "metadata": {},
   "outputs": [],
   "source": [
    "create_people_kvdb()\n"
   ]
  },
  {
   "cell_type": "code",
   "execution_count": 13,
   "id": "rubber-progressive",
   "metadata": {},
   "outputs": [],
   "source": [
    "def create_visits_kvdb():\n",
    "    db = KVDB(visited_json)\n",
    "    ## TODO: Implement code\n",
    "    df = read_cluster_csv('data/external/tidynomicon/visited.csv')\n",
    "    group_columns = ['visit_id','site_id']\n",
    "   \n",
    "    for group_columns,group_df in df.groupby(group_columns):\n",
    "        visit_id=str(group_columns[0])\n",
    "        key=str(group_columns)\n",
    "        db.set_value(visit_id,group_df.to_dict(orient='records')[0])\n",
    "    db.save()"
   ]
  },
  {
   "cell_type": "code",
   "execution_count": 14,
   "id": "spread-restriction",
   "metadata": {},
   "outputs": [],
   "source": [
    "create_visits_kvdb()"
   ]
  },
  {
   "cell_type": "code",
   "execution_count": 15,
   "id": "genetic-brisbane",
   "metadata": {},
   "outputs": [],
   "source": [
    "def create_measurements_kvdb():\n",
    "    db = KVDB(measurements_json)\n",
    "    ## TODO: Implement code\n",
    "    df = read_cluster_csv('data/external/tidynomicon/measurements.csv')\n",
    "    group_columns = ['visit_id','person_id','quantity']\n",
    "    for group_columns,group_df in df.groupby(group_columns):\n",
    "        key = str(group_columns)\n",
    "        db.set_value(key,group_df.to_dict(orient='records'))\n",
    "    db.save()"
   ]
  },
  {
   "cell_type": "code",
   "execution_count": 16,
   "id": "partial-semester",
   "metadata": {},
   "outputs": [],
   "source": [
    "create_measurements_kvdb()"
   ]
  },
  {
   "cell_type": "code",
   "execution_count": null,
   "id": "numeric-summit",
   "metadata": {},
   "outputs": [],
   "source": []
  }
 ],
 "metadata": {
  "kernelspec": {
   "display_name": "Python 3",
   "language": "python",
   "name": "python3"
  },
  "language_info": {
   "codemirror_mode": {
    "name": "ipython",
    "version": 3
   },
   "file_extension": ".py",
   "mimetype": "text/x-python",
   "name": "python",
   "nbconvert_exporter": "python",
   "pygments_lexer": "ipython3",
   "version": "3.8.8"
  }
 },
 "nbformat": 4,
 "nbformat_minor": 5
}
